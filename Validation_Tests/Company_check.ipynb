{
 "cells": [
  {
   "attachments": {},
   "cell_type": "markdown",
   "metadata": {},
   "source": [
    "This test checks to see if the list of companaies extracted from yahoo finance matches the list of companies in the database"
   ]
  },
  {
   "cell_type": "code",
   "execution_count": 1,
   "metadata": {},
   "outputs": [],
   "source": [
    "import pandas as pd\n"
   ]
  },
  {
   "cell_type": "code",
   "execution_count": 7,
   "metadata": {},
   "outputs": [],
   "source": [
    "### read in csvs \n",
    "\n",
    "tickers_df = pd.read_csv('/Data/company_info.csv' , usecols=['Ticker'])\n",
    "\n",
    "extracted_tickers = pd.read_csv('../Data_Scraping/stock_data/test_3.csv' , usecols=['Ticker'])\n",
    "\n"
   ]
  },
  {
   "cell_type": "code",
   "execution_count": 6,
   "metadata": {},
   "outputs": [
    {
     "data": {
      "text/html": [
       "<div>\n",
       "<style scoped>\n",
       "    .dataframe tbody tr th:only-of-type {\n",
       "        vertical-align: middle;\n",
       "    }\n",
       "\n",
       "    .dataframe tbody tr th {\n",
       "        vertical-align: top;\n",
       "    }\n",
       "\n",
       "    .dataframe thead th {\n",
       "        text-align: right;\n",
       "    }\n",
       "</style>\n",
       "<table border=\"1\" class=\"dataframe\">\n",
       "  <thead>\n",
       "    <tr style=\"text-align: right;\">\n",
       "      <th></th>\n",
       "      <th>Ticker</th>\n",
       "    </tr>\n",
       "  </thead>\n",
       "  <tbody>\n",
       "    <tr>\n",
       "      <th>0</th>\n",
       "      <td>MMM</td>\n",
       "    </tr>\n",
       "    <tr>\n",
       "      <th>1</th>\n",
       "      <td>AOS</td>\n",
       "    </tr>\n",
       "    <tr>\n",
       "      <th>2</th>\n",
       "      <td>ABT</td>\n",
       "    </tr>\n",
       "    <tr>\n",
       "      <th>3</th>\n",
       "      <td>ABBV</td>\n",
       "    </tr>\n",
       "    <tr>\n",
       "      <th>4</th>\n",
       "      <td>ACN</td>\n",
       "    </tr>\n",
       "  </tbody>\n",
       "</table>\n",
       "</div>"
      ],
      "text/plain": [
       "  Ticker\n",
       "0    MMM\n",
       "1    AOS\n",
       "2    ABT\n",
       "3   ABBV\n",
       "4    ACN"
      ]
     },
     "execution_count": 6,
     "metadata": {},
     "output_type": "execute_result"
    }
   ],
   "source": [
    "tickers_df.head()"
   ]
  },
  {
   "cell_type": "code",
   "execution_count": 9,
   "metadata": {},
   "outputs": [
    {
     "data": {
      "text/html": [
       "<div>\n",
       "<style scoped>\n",
       "    .dataframe tbody tr th:only-of-type {\n",
       "        vertical-align: middle;\n",
       "    }\n",
       "\n",
       "    .dataframe tbody tr th {\n",
       "        vertical-align: top;\n",
       "    }\n",
       "\n",
       "    .dataframe thead th {\n",
       "        text-align: right;\n",
       "    }\n",
       "</style>\n",
       "<table border=\"1\" class=\"dataframe\">\n",
       "  <thead>\n",
       "    <tr style=\"text-align: right;\">\n",
       "      <th></th>\n",
       "      <th>Ticker</th>\n",
       "    </tr>\n",
       "  </thead>\n",
       "  <tbody>\n",
       "    <tr>\n",
       "      <th>0</th>\n",
       "      <td>ABT</td>\n",
       "    </tr>\n",
       "    <tr>\n",
       "      <th>1</th>\n",
       "      <td>AOS</td>\n",
       "    </tr>\n",
       "    <tr>\n",
       "      <th>2</th>\n",
       "      <td>ADBE</td>\n",
       "    </tr>\n",
       "    <tr>\n",
       "      <th>3</th>\n",
       "      <td>MMM</td>\n",
       "    </tr>\n",
       "    <tr>\n",
       "      <th>4</th>\n",
       "      <td>ADP</td>\n",
       "    </tr>\n",
       "  </tbody>\n",
       "</table>\n",
       "</div>"
      ],
      "text/plain": [
       "  Ticker\n",
       "0    ABT\n",
       "1    AOS\n",
       "2   ADBE\n",
       "3    MMM\n",
       "4    ADP"
      ]
     },
     "execution_count": 9,
     "metadata": {},
     "output_type": "execute_result"
    }
   ],
   "source": [
    "extracted_tickers.head()"
   ]
  },
  {
   "cell_type": "code",
   "execution_count": 18,
   "metadata": {},
   "outputs": [
    {
     "name": "stdout",
     "output_type": "stream",
     "text": [
      "{'SYK', 'VICI', 'ED', 'JKHY', 'EA', 'HPQ', 'TEL', 'SPG', 'ES', 'HII', 'HSIC', 'ETR', 'FTNT', 'HBAN', 'MTB', 'EFX', 'PKI', 'AMD', 'GOOGL', 'MSFT', 'AMT', 'IP', 'PEAK', 'AAP', 'AVGO', 'IFF', 'MPC', 'JPM', 'EL', 'WBD', 'WBA', 'NOC', 'BMY', 'MMM', 'NDAQ', 'TSCO', 'LOW', 'EW', 'ROP', 'BF.B', 'MTD', 'CCL', 'MCD', 'FCX', 'QRVO', 'CNC', 'CLX', 'DLR', 'VZ', 'MHK', 'CFG', 'SO', 'ODFL', 'GPC', 'MMC', 'TYL', 'DFS', 'UNP', 'MAS', 'ATVI', 'AME', 'SEE', 'EIX', 'ZION', 'SEDG', 'ULTA', 'HRL', 'TXN', 'LMT', 'IPG', 'GM', 'TTWO', 'ALLE', 'PG', 'MRK', 'LH', 'ITW', 'INVH', 'UHS', 'CPB', 'MNST', 'KHC', 'ZTS', 'CL', 'UDR', 'RHI', 'CHD', 'CNP', 'PARA', 'PEP', 'PTC', 'WST', 'PAYX', 'DRI', 'FITB', 'SBUX', 'FICO', 'LLY', 'ADBE', 'HWM', 'GNRC', 'APTV', 'NXPI', 'PLD', 'MDT', 'EXR', 'FLT', 'ORLY', 'SNA', 'RJF', 'CF', 'VRSN', 'HIG', 'VRTX', 'NTRS', 'WFC', 'EMN', 'GOOG', 'ETN', 'LIN', 'NFLX', 'EBAY', 'IDXX', 'WM', 'ON', 'IQV', 'MRO', 'JNPR', 'D', 'BEN', 'SWK', 'MCHP', 'GEHC', 'NDSN', 'NUE', 'WDC', 'CVS', 'REG', 'DUK', 'CMI', 'DISH', 'MAA', 'AMP', 'ALK', 'AAPL', 'ETSY', 'TSN', 'COF', 'CE', 'TJX', 'WY', 'FDX', 'META', 'GLW', 'PPG', 'RCL', 'TDG', 'NWL', 'CTLT', 'APD', 'KMB', 'APH', 'RF', 'SJM', 'ZBH', 'HES', 'GPN', 'EOG', 'SLB', 'AVB', 'GILD', 'MDLZ', 'TROW', 'DG', 'RMD', 'CDNS', 'ADSK', 'HUM', 'AJG', 'SRE', 'DVN', 'CARR', 'CMCSA', 'HAS', 'COP', 'TMO', 'PEG', 'BALL', 'EMR', 'SCHW', 'BR', 'TFX', 'PPL', 'BSX', 'AMGN', 'BG', 'CMA', 'QCOM', 'USB', 'VFC', 'C', 'SPGI', 'SBAC', 'VTRS', 'O', 'FE', 'PCG', 'EVRG', 'STT', 'WEC', 'MGM', 'RTX', 'CTVA', 'TAP', 'KMI', 'MOH', 'FRT', 'PSA', 'GWW', 'JBHT', 'CBRE', 'TGT', 'FFIV', 'HPE', 'MRNA', 'FANG', 'SYY', 'AMAT', 'CB', 'CVX', 'CPRT', 'CSCO', 'INCY', 'BA', 'DAL', 'HOLX', 'K', 'CEG', 'DOW', 'PAYC', 'CRL', 'LW', 'PODD', 'NTAP', 'NWSA', 'WHR', 'SWKS', 'TRMB', 'TDY', 'MKC', 'TXT', 'ESS', 'ALB', 'VTR', 'ROST', 'MCK', 'ATO', 'NWS', 'DXCM', 'L', 'ALL', 'EQR', 'CMG', 'JCI', 'WMT', 'WRB', 'PWR', 'ADM', 'NEE', 'KDP', 'MA', 'DLTR', 'CSX', 'BRO', 'LRCX', 'IVZ', 'STX', 'TT', 'PNR', 'V', 'FTV', 'AXON', 'CMS', 'MS', 'ISRG', 'AIZ', 'WAB', 'CRM', 'LYB', 'AON', 'INTU', 'NKE', 'LKQ', 'ORCL', 'NOW', 'FOXA', 'CTRA', 'XOM', 'AFL', 'CBOE', 'RL', 'TRV', 'AES', 'CI', 'CTSH', 'PFE', 'MOS', 'HAL', 'PRU', 'PNC', 'CTAS', 'UAL', 'ACN', 'TECH', 'KO', 'CME', 'AZO', 'TER', 'LNC', 'HLT', 'MKTX', 'LUV', 'PHM', 'F', 'HCA', 'BLK', 'LVS', 'ADP', 'VLO', 'DPZ', 'KEYS', 'VRSK', 'GS', 'ABT', 'KEY', 'HSY', 'REGN', 'WAT', 'ARE', 'GD', 'GE', 'LEN', 'HON', 'EXC', 'MSI', 'URI', 'OTIS', 'IEX', 'TRGP', 'EXPE', 'FIS', 'AMCR', 'IRM', 'DHI', 'STZ', 'WYNN', 'EQT', 'J', 'CSGP', 'FMC', 'POOL', 'NCLH', 'PSX', 'ILMN', 'WTW', 'ROL', 'APA', 'MAR', 'STE', 'TFC', 'PNW', 'WMB', 'LDOS', 'AEE', 'BBWI', 'AKAM', 'RE', 'MO', 'PGR', 'EQIX', 'BAC', 'STLD', 'DGX', 'ABBV', 'HD', 'KR', 'FDS', 'ROK', 'MU', 'MTCH', 'LNT', 'BIIB', 'IT', 'ADI', 'AIG', 'NVDA', 'SYF', 'AEP', 'AXP', 'FISV', 'OGN', 'FSLR', 'GL', 'SNPS', 'AVY', 'DOV', 'CAT', 'BRK.B', 'HST', 'TSLA', 'T', 'ALGN', 'AMZN', 'DD', 'JNJ', 'WRK', 'MCO', 'DE', 'GEN', 'FOX', 'NEM', 'PYPL', 'CDW', 'ABC', 'OXY', 'SHW', 'MET', 'LHX', 'PCAR', 'AAL', 'BBY', 'BWA', 'PFG', 'YUM', 'UNH', 'ANSS', 'DTE', 'AWK', 'MLM', 'BKR', 'BXP', 'DHR', 'FAST', 'PH', 'VMC', 'CPT', 'CHTR', 'KLAC', 'ANET', 'ENPH', 'A', 'DVA', 'TPR', 'TMUS', 'CHRW', 'NI', 'CZR', 'GRMN', 'CINF', 'XRAY', 'COST', 'PXD', 'BIO', 'ACGL', 'IR', 'COO', 'KIM', 'XEL', 'ICE', 'XYL', 'BKNG', 'EPAM', 'BDX', 'OMC', 'PM', 'WELL', 'MSCI', 'KMX', 'CDAY', 'BAX', 'BK', 'INTC', 'DIS', 'RSG', 'CAG', 'CCI', 'ZBRA', 'UPS', 'AOS', 'NVR', 'CAH', 'MPWR', 'ELV', 'OKE', 'DXC', 'NSC', 'NRG', 'GIS', 'ECL', 'LYV', 'PKG', 'IBM', 'EXPD'}\n"
     ]
    }
   ],
   "source": [
    "## Create Set of companies tickers\n",
    "\n",
    "tickers_list_set = set(tickers_df['Ticker'])\n",
    "\n",
    "print(tickers_list_set)"
   ]
  },
  {
   "cell_type": "code",
   "execution_count": 20,
   "metadata": {},
   "outputs": [
    {
     "data": {
      "text/html": [
       "<div>\n",
       "<style scoped>\n",
       "    .dataframe tbody tr th:only-of-type {\n",
       "        vertical-align: middle;\n",
       "    }\n",
       "\n",
       "    .dataframe tbody tr th {\n",
       "        vertical-align: top;\n",
       "    }\n",
       "\n",
       "    .dataframe thead th {\n",
       "        text-align: right;\n",
       "    }\n",
       "</style>\n",
       "<table border=\"1\" class=\"dataframe\">\n",
       "  <thead>\n",
       "    <tr style=\"text-align: right;\">\n",
       "      <th></th>\n",
       "      <th>Ticker</th>\n",
       "    </tr>\n",
       "  </thead>\n",
       "  <tbody>\n",
       "    <tr>\n",
       "      <th>0</th>\n",
       "      <td>ABT</td>\n",
       "    </tr>\n",
       "    <tr>\n",
       "      <th>1</th>\n",
       "      <td>AOS</td>\n",
       "    </tr>\n",
       "    <tr>\n",
       "      <th>2</th>\n",
       "      <td>ADBE</td>\n",
       "    </tr>\n",
       "    <tr>\n",
       "      <th>3</th>\n",
       "      <td>MMM</td>\n",
       "    </tr>\n",
       "    <tr>\n",
       "      <th>4</th>\n",
       "      <td>ADP</td>\n",
       "    </tr>\n",
       "    <tr>\n",
       "      <th>...</th>\n",
       "      <td>...</td>\n",
       "    </tr>\n",
       "    <tr>\n",
       "      <th>494</th>\n",
       "      <td>ZTS</td>\n",
       "    </tr>\n",
       "    <tr>\n",
       "      <th>495</th>\n",
       "      <td>XYL</td>\n",
       "    </tr>\n",
       "    <tr>\n",
       "      <th>496</th>\n",
       "      <td>XEL</td>\n",
       "    </tr>\n",
       "    <tr>\n",
       "      <th>497</th>\n",
       "      <td>YUM</td>\n",
       "    </tr>\n",
       "    <tr>\n",
       "      <th>498</th>\n",
       "      <td>ZION</td>\n",
       "    </tr>\n",
       "  </tbody>\n",
       "</table>\n",
       "<p>499 rows × 1 columns</p>\n",
       "</div>"
      ],
      "text/plain": [
       "    Ticker\n",
       "0      ABT\n",
       "1      AOS\n",
       "2     ADBE\n",
       "3      MMM\n",
       "4      ADP\n",
       "..     ...\n",
       "494    ZTS\n",
       "495    XYL\n",
       "496    XEL\n",
       "497    YUM\n",
       "498   ZION\n",
       "\n",
       "[499 rows x 1 columns]"
      ]
     },
     "execution_count": 20,
     "metadata": {},
     "output_type": "execute_result"
    }
   ],
   "source": [
    "## Create set of extracted tickers \n",
    "\n",
    "extracted_tickers_set = set(extracted_tickers['Ticker'])\n",
    "\n",
    "extracted_tickers"
   ]
  },
  {
   "cell_type": "code",
   "execution_count": 21,
   "metadata": {},
   "outputs": [
    {
     "data": {
      "text/plain": [
       "{'ADM', 'ALB', 'BF.B', 'BRK.B'}"
      ]
     },
     "execution_count": 21,
     "metadata": {},
     "output_type": "execute_result"
    }
   ],
   "source": [
    "## use set operations to find tickers not shared between two lists \n",
    "tickers_list_set.difference(extracted_tickers_set)"
   ]
  },
  {
   "cell_type": "code",
   "execution_count": 22,
   "metadata": {},
   "outputs": [
    {
     "data": {
      "text/plain": [
       "set()"
      ]
     },
     "execution_count": 22,
     "metadata": {},
     "output_type": "execute_result"
    }
   ],
   "source": [
    "extracted_tickers_set.difference(tickers_list_set)"
   ]
  },
  {
   "cell_type": "code",
   "execution_count": null,
   "metadata": {},
   "outputs": [],
   "source": []
  }
 ],
 "metadata": {
  "kernelspec": {
   "display_name": "PythonData",
   "language": "python",
   "name": "python3"
  },
  "language_info": {
   "codemirror_mode": {
    "name": "ipython",
    "version": 3
   },
   "file_extension": ".py",
   "mimetype": "text/x-python",
   "name": "python",
   "nbconvert_exporter": "python",
   "pygments_lexer": "ipython3",
   "version": "3.7.7"
  },
  "orig_nbformat": 4
 },
 "nbformat": 4,
 "nbformat_minor": 2
}
